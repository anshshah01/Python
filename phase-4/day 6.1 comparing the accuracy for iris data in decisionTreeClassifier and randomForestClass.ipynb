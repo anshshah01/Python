{
 "cells": [
  {
   "cell_type": "markdown",
   "id": "48c033f8",
   "metadata": {},
   "source": [
    "comparing the accuracy for iris data in decisionTreeClassifier and randomForestClass"
   ]
  },
  {
   "cell_type": "code",
   "execution_count": 33,
   "id": "28acf0bc",
   "metadata": {},
   "outputs": [],
   "source": [
    "from sklearn.datasets import load_wine"
   ]
  },
  {
   "cell_type": "code",
   "execution_count": 71,
   "id": "5ff86041",
   "metadata": {},
   "outputs": [],
   "source": [
    "data=load_wine()\n",
    "\n"
   ]
  },
  {
   "cell_type": "code",
   "execution_count": 72,
   "id": "a88906fd",
   "metadata": {},
   "outputs": [],
   "source": [
    "x=data.data\n",
    "y=data.target"
   ]
  },
  {
   "cell_type": "code",
   "execution_count": 82,
   "id": "6496a2e8",
   "metadata": {},
   "outputs": [],
   "source": [
    "from sklearn.model_selection import train_test_split\n",
    "x_train,x_test,y_train,y_test=train_test_split(x,y,test_size=0.30)\n"
   ]
  },
  {
   "cell_type": "markdown",
   "id": "50419fdd",
   "metadata": {},
   "source": [
    "# random forest instance(it makes 50 trees)"
   ]
  },
  {
   "cell_type": "code",
   "execution_count": 83,
   "id": "c6e70c83",
   "metadata": {},
   "outputs": [
    {
     "data": {
      "text/plain": [
       "RandomForestClassifier(n_estimators=50)"
      ]
     },
     "execution_count": 83,
     "metadata": {},
     "output_type": "execute_result"
    }
   ],
   "source": [
    "from sklearn.ensemble import RandomForestClassifier\n",
    "rfc=RandomForestClassifier(n_estimators=50)\n",
    "rfc.fit(x_train,y_train)"
   ]
  },
  {
   "cell_type": "code",
   "execution_count": 84,
   "id": "201e8d33",
   "metadata": {},
   "outputs": [],
   "source": [
    "y_pred=rfc.predict(x_test)"
   ]
  },
  {
   "cell_type": "markdown",
   "id": "f3187752",
   "metadata": {},
   "source": [
    "# decision tree instance (it makes only one tree)"
   ]
  },
  {
   "cell_type": "code",
   "execution_count": 85,
   "id": "7c6a0e06",
   "metadata": {},
   "outputs": [
    {
     "data": {
      "text/plain": [
       "DecisionTreeClassifier()"
      ]
     },
     "execution_count": 85,
     "metadata": {},
     "output_type": "execute_result"
    }
   ],
   "source": [
    "from sklearn.tree import DecisionTreeClassifier\n",
    "dtc=DecisionTreeClassifier()\n",
    "dtc.fit(x_train,y_train)"
   ]
  },
  {
   "cell_type": "code",
   "execution_count": 86,
   "id": "45cf6610",
   "metadata": {},
   "outputs": [],
   "source": [
    "y_predc=dtc.predict(x_test)"
   ]
  },
  {
   "cell_type": "code",
   "execution_count": 87,
   "id": "a3f4c95d",
   "metadata": {},
   "outputs": [
    {
     "name": "stdout",
     "output_type": "stream",
     "text": [
      "random forest classifier accuracy: 98.14814814814815\n",
      "decision tree classifier accuracy: 90.74074074074075\n"
     ]
    }
   ],
   "source": [
    "print(\"random forest classifier accuracy:\",rfc.score(x_test,y_test)*100)#due to 50 trees accuracy of random forest is more\n",
    "print(\"decision tree classifier accuracy:\",dtc.score(x_test,y_test)*100)"
   ]
  },
  {
   "cell_type": "code",
   "execution_count": 88,
   "id": "94e97e36",
   "metadata": {},
   "outputs": [
    {
     "name": "stdout",
     "output_type": "stream",
     "text": [
      "[[17  0  0]\n",
      " [ 0 24  1]\n",
      " [ 0  0 12]]\n"
     ]
    }
   ],
   "source": [
    "from sklearn.metrics import confusion_matrix\n",
    "cm=confusion_matrix(y_test,y_pred)# for random forest\n",
    "print(cm)"
   ]
  },
  {
   "cell_type": "code",
   "execution_count": 89,
   "id": "29166ada",
   "metadata": {},
   "outputs": [
    {
     "name": "stdout",
     "output_type": "stream",
     "text": [
      "[[16  1  0]\n",
      " [ 1 21  3]\n",
      " [ 0  0 12]]\n"
     ]
    }
   ],
   "source": [
    "from sklearn.metrics import confusion_matrix\n",
    "cm=confusion_matrix(y_test,y_predc)# for decision tree\n",
    "print(cm)"
   ]
  },
  {
   "cell_type": "code",
   "execution_count": 90,
   "id": "99c2d866",
   "metadata": {},
   "outputs": [
    {
     "name": "stdout",
     "output_type": "stream",
     "text": [
      "              precision    recall  f1-score   support\n",
      "\n",
      "           0       1.00      1.00      1.00        17\n",
      "           1       1.00      0.96      0.98        25\n",
      "           2       0.92      1.00      0.96        12\n",
      "\n",
      "    accuracy                           0.98        54\n",
      "   macro avg       0.97      0.99      0.98        54\n",
      "weighted avg       0.98      0.98      0.98        54\n",
      "\n"
     ]
    }
   ],
   "source": [
    "from sklearn.metrics import classification_report\n",
    "print(classification_report(y_test,y_pred))#for random forest"
   ]
  },
  {
   "cell_type": "code",
   "execution_count": 91,
   "id": "0d11b21c",
   "metadata": {},
   "outputs": [
    {
     "name": "stdout",
     "output_type": "stream",
     "text": [
      "              precision    recall  f1-score   support\n",
      "\n",
      "           0       0.94      0.94      0.94        17\n",
      "           1       0.95      0.84      0.89        25\n",
      "           2       0.80      1.00      0.89        12\n",
      "\n",
      "    accuracy                           0.91        54\n",
      "   macro avg       0.90      0.93      0.91        54\n",
      "weighted avg       0.92      0.91      0.91        54\n",
      "\n"
     ]
    }
   ],
   "source": [
    "from sklearn.metrics import classification_report\n",
    "print(classification_report(y_test,y_predc))#for decision tree"
   ]
  },
  {
   "cell_type": "code",
   "execution_count": null,
   "id": "cec01b90",
   "metadata": {},
   "outputs": [],
   "source": []
  },
  {
   "cell_type": "code",
   "execution_count": null,
   "id": "59553394",
   "metadata": {},
   "outputs": [],
   "source": []
  }
 ],
 "metadata": {
  "kernelspec": {
   "display_name": "Python 3 (ipykernel)",
   "language": "python",
   "name": "python3"
  },
  "language_info": {
   "codemirror_mode": {
    "name": "ipython",
    "version": 3
   },
   "file_extension": ".py",
   "mimetype": "text/x-python",
   "name": "python",
   "nbconvert_exporter": "python",
   "pygments_lexer": "ipython3",
   "version": "3.9.7"
  }
 },
 "nbformat": 4,
 "nbformat_minor": 5
}
