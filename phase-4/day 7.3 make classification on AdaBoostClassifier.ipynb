{
 "cells": [
  {
   "cell_type": "code",
   "execution_count": 1,
   "id": "76dd27e2",
   "metadata": {},
   "outputs": [],
   "source": [
    "from sklearn.datasets import make_classification"
   ]
  },
  {
   "cell_type": "code",
   "execution_count": 2,
   "id": "81ce9b70",
   "metadata": {},
   "outputs": [],
   "source": [
    "x,y = make_classification(n_samples=1000,n_features=20,n_informative=15,n_redundant=5,random_state=42)"
   ]
  },
  {
   "cell_type": "code",
   "execution_count": 3,
   "id": "065b4993",
   "metadata": {},
   "outputs": [
    {
     "name": "stdout",
     "output_type": "stream",
     "text": [
      "[[ -4.90644173   3.44278902   0.55896373 ...   3.01285895  -4.4970026\n",
      "   -2.52006572]\n",
      " [  2.16261046  -5.2866508    2.60984566 ...  -4.56217784   3.69866457\n",
      "   -1.92328575]\n",
      " [ -4.78484428  -3.74482699   4.65759163 ...  -7.8446457    2.80379841\n",
      "   -2.96318945]\n",
      " ...\n",
      " [-10.4123717   -5.32462138  -1.03805762 ...   8.97804725   3.57786925\n",
      "    4.28159633]\n",
      " [  0.28820005   2.83863363   2.79969055 ...  -6.31392968  -1.85129503\n",
      "   -4.92026386]\n",
      " [  2.83104091   4.03525551   0.25816518 ... -12.18842291   2.16378616\n",
      "    4.64310326]] [0 1 1 0 0 0 1 1 0 1 1 1 0 0 1 1 1 1 1 1 0 0 1 0 0 0 1 0 0 1 1 0 0 0 0 0 0\n",
      " 1 0 0 1 1 1 1 1 1 1 0 0 0 1 1 1 1 0 0 1 1 0 0 0 0 0 1 1 1 0 0 1 1 0 0 0 1\n",
      " 1 0 1 1 1 1 0 0 0 1 1 0 1 1 0 1 0 1 1 0 0 1 0 1 0 1 1 1 1 0 1 0 0 1 1 1 1\n",
      " 0 1 0 1 1 1 1 0 0 1 0 1 0 1 1 1 1 0 1 0 0 1 0 1 1 0 0 1 1 1 1 1 1 1 0 1 1\n",
      " 1 1 1 0 1 0 1 0 0 0 0 1 0 0 1 1 1 0 1 0 1 1 0 0 1 0 0 0 1 1 1 1 1 0 1 0 1\n",
      " 0 0 1 1 1 1 1 0 0 0 0 0 1 1 1 0 0 0 1 1 1 1 1 1 0 0 1 0 1 1 0 0 1 1 0 1 0\n",
      " 0 0 0 1 0 0 1 0 0 1 1 1 1 0 1 0 1 0 0 1 0 0 0 0 1 0 1 0 0 1 0 0 0 1 1 0 1\n",
      " 1 0 1 0 0 1 0 0 0 1 1 0 0 0 0 0 0 0 1 0 0 0 0 0 0 1 0 0 0 1 1 0 1 0 1 0 0\n",
      " 0 0 0 0 0 0 1 1 0 0 0 0 0 0 1 0 0 1 0 0 0 0 0 1 1 0 1 1 1 1 1 0 0 1 1 1 0\n",
      " 1 1 0 1 0 0 1 1 1 0 0 0 1 1 0 0 1 0 0 0 1 0 0 0 0 1 0 1 1 1 0 1 1 1 0 0 1\n",
      " 0 0 1 0 0 0 0 0 0 1 0 0 0 0 0 0 0 0 0 1 0 1 0 1 1 0 1 0 1 0 1 1 0 0 1 0 0\n",
      " 0 0 1 0 1 0 1 0 0 1 1 0 1 1 0 0 1 1 1 1 1 1 0 1 0 1 0 0 0 0 1 0 0 1 0 0 0\n",
      " 1 1 1 0 0 0 1 1 0 1 0 1 0 0 1 0 1 1 1 0 1 1 0 1 1 0 1 0 0 1 0 0 0 0 1 0 0\n",
      " 0 0 0 1 0 1 0 1 1 1 0 1 0 0 1 0 0 1 0 1 1 1 1 1 1 1 1 0 0 1 1 1 0 1 1 1 0\n",
      " 1 0 1 0 1 0 0 0 0 1 1 0 1 0 0 1 1 1 1 0 0 1 0 1 0 0 0 1 0 1 1 1 0 1 1 1 1\n",
      " 0 1 1 0 0 0 0 1 1 0 1 1 1 1 0 0 1 1 1 1 0 1 1 1 0 0 1 1 1 1 1 0 1 0 1 1 1\n",
      " 0 1 0 0 0 1 1 0 1 0 1 1 0 0 0 0 1 0 0 1 0 0 0 1 0 0 1 1 0 1 1 0 1 0 1 1 0\n",
      " 0 0 1 0 0 0 0 1 0 0 0 1 0 1 1 1 0 1 1 0 0 0 1 1 0 0 1 0 0 0 0 0 1 1 0 0 1\n",
      " 1 0 0 1 0 0 0 1 1 0 1 0 1 0 0 0 0 0 0 0 1 0 1 0 1 1 1 0 1 0 1 0 1 0 0 1 1\n",
      " 1 0 1 0 1 0 1 1 1 1 1 0 1 0 0 1 0 1 0 1 1 1 1 0 0 1 1 0 0 1 1 1 0 1 1 1 0\n",
      " 1 0 0 1 0 1 0 0 1 0 1 1 0 1 1 1 0 1 0 0 1 1 0 0 1 0 1 0 0 0 0 1 0 0 0 0 0\n",
      " 0 0 1 1 1 0 0 1 0 0 1 0 1 1 1 1 1 1 0 1 1 0 1 1 0 0 1 1 1 1 0 0 1 1 1 0 0\n",
      " 0 1 0 0 1 1 1 1 0 1 0 0 1 0 1 0 0 1 0 0 0 0 0 1 1 1 1 0 1 1 1 1 1 0 1 1 0\n",
      " 0 0 0 1 1 1 1 1 1 0 1 0 0 1 1 1 1 1 1 1 0 0 1 0 1 1 1 0 0 1 1 1 1 1 0 1 0\n",
      " 1 1 0 1 1 0 1 0 1 0 0 1 0 0 0 1 1 1 0 1 1 0 0 0 0 0 1 0 0 1 0 0 0 0 0 1 1\n",
      " 0 1 1 0 0 1 0 1 1 1 0 0 0 1 0 0 0 0 0 1 0 0 0 1 0 0 1 0 0 1 0 1 1 1 1 1 0\n",
      " 0 1 0 0 0 1 1 0 1 0 1 1 1 0 0 1 0 1 0 1 1 1 0 1 1 0 1 0 0 1 0 1 0 1 1 1 1\n",
      " 1]\n"
     ]
    }
   ],
   "source": [
    "print(x,y)"
   ]
  },
  {
   "cell_type": "code",
   "execution_count": 4,
   "id": "f22091ad",
   "metadata": {},
   "outputs": [],
   "source": [
    "from sklearn.model_selection import train_test_split\n",
    "x_train,x_test,y_train,y_test = train_test_split(x,y,test_size=0.3,random_state=42)"
   ]
  },
  {
   "cell_type": "code",
   "execution_count": 5,
   "id": "62826e03",
   "metadata": {},
   "outputs": [],
   "source": [
    "from sklearn.ensemble import AdaBoostClassifier"
   ]
  },
  {
   "cell_type": "code",
   "execution_count": 6,
   "id": "43828026",
   "metadata": {},
   "outputs": [
    {
     "name": "stdout",
     "output_type": "stream",
     "text": [
      "AdaBoostClassifier(learning_rate=0.1, n_estimators=100, random_state=42)\n"
     ]
    }
   ],
   "source": [
    "abc_classifier = AdaBoostClassifier(n_estimators=100, learning_rate=0.1, random_state=42)\n",
    "print(abc_classifier)"
   ]
  },
  {
   "cell_type": "code",
   "execution_count": 7,
   "id": "5cd8e819",
   "metadata": {},
   "outputs": [
    {
     "data": {
      "text/plain": [
       "AdaBoostClassifier(learning_rate=0.1, n_estimators=100, random_state=42)"
      ]
     },
     "execution_count": 7,
     "metadata": {},
     "output_type": "execute_result"
    }
   ],
   "source": [
    "abc_classifier.fit(x_train,y_train)"
   ]
  },
  {
   "cell_type": "code",
   "execution_count": 8,
   "id": "14b6e74f",
   "metadata": {},
   "outputs": [],
   "source": [
    "y_pred = abc_classifier.predict(x_test)"
   ]
  },
  {
   "cell_type": "code",
   "execution_count": 9,
   "id": "1b7c8863",
   "metadata": {},
   "outputs": [
    {
     "name": "stdout",
     "output_type": "stream",
     "text": [
      "Accuracy Score:  0.8166666666666667\n"
     ]
    }
   ],
   "source": [
    "from sklearn.metrics import accuracy_score\n",
    "accuracy = accuracy_score(y_test,y_pred)\n",
    "print(\"Accuracy Score: \",accuracy)"
   ]
  },
  {
   "cell_type": "code",
   "execution_count": 10,
   "id": "ccb65eff",
   "metadata": {},
   "outputs": [
    {
     "name": "stdout",
     "output_type": "stream",
     "text": [
      "Classification Report\n",
      "              precision    recall  f1-score   support\n",
      "\n",
      "           0       0.84      0.81      0.82       160\n",
      "           1       0.79      0.83      0.81       140\n",
      "\n",
      "    accuracy                           0.82       300\n",
      "   macro avg       0.82      0.82      0.82       300\n",
      "weighted avg       0.82      0.82      0.82       300\n",
      "\n"
     ]
    }
   ],
   "source": [
    "from sklearn.metrics import classification_report\n",
    "print(\"Classification Report\")\n",
    "print(classification_report(y_test,y_pred))"
   ]
  },
  {
   "cell_type": "markdown",
   "id": "d04305d7",
   "metadata": {},
   "source": [
    "#  AdaBoostClassifier with no arguments(parameter)"
   ]
  },
  {
   "cell_type": "code",
   "execution_count": 11,
   "id": "6546f5f4",
   "metadata": {},
   "outputs": [
    {
     "name": "stdout",
     "output_type": "stream",
     "text": [
      "AdaBoostClassifier()\n",
      "Accuracy Score:  0.8466666666666667\n"
     ]
    }
   ],
   "source": [
    "abc = AdaBoostClassifier()\n",
    "abc.fit(x_train,y_train)\n",
    "print(abc)\n",
    "\n",
    "y_pred1 = abc.predict(x_test)\n",
    "\n",
    "from sklearn.metrics import accuracy_score\n",
    "accuracy = accuracy_score(y_test,y_pred1)\n",
    "print(\"Accuracy Score: \",accuracy)"
   ]
  },
  {
   "cell_type": "code",
   "execution_count": 12,
   "id": "c0c98f04",
   "metadata": {},
   "outputs": [
    {
     "ename": "SyntaxError",
     "evalue": "invalid syntax (350089447.py, line 3)",
     "output_type": "error",
     "traceback": [
      "\u001b[1;36m  File \u001b[1;32m\"C:\\Users\\OM SAI\\AppData\\Local\\Temp\\ipykernel_1000\\350089447.py\"\u001b[1;36m, line \u001b[1;32m3\u001b[0m\n\u001b[1;33m    from sklearn.datas\u001b[0m\n\u001b[1;37m                      ^\u001b[0m\n\u001b[1;31mSyntaxError\u001b[0m\u001b[1;31m:\u001b[0m invalid syntax\n"
     ]
    }
   ],
   "source": [
    "import matplotlib.pyplot as plt\n",
    "from sklearn.metrics import roc_curve,roc_au_score\n",
    "from sklearn.datas"
   ]
  },
  {
   "cell_type": "code",
   "execution_count": null,
   "id": "a30f1c5b",
   "metadata": {},
   "outputs": [],
   "source": []
  },
  {
   "cell_type": "code",
   "execution_count": null,
   "id": "66e16db6",
   "metadata": {},
   "outputs": [],
   "source": []
  }
 ],
 "metadata": {
  "kernelspec": {
   "display_name": "Python 3 (ipykernel)",
   "language": "python",
   "name": "python3"
  },
  "language_info": {
   "codemirror_mode": {
    "name": "ipython",
    "version": 3
   },
   "file_extension": ".py",
   "mimetype": "text/x-python",
   "name": "python",
   "nbconvert_exporter": "python",
   "pygments_lexer": "ipython3",
   "version": "3.7.4"
  }
 },
 "nbformat": 4,
 "nbformat_minor": 5
}
