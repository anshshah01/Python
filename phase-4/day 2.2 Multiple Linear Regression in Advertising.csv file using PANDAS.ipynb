{
 "cells": [
  {
   "cell_type": "code",
   "execution_count": 2,
   "id": "24b54506",
   "metadata": {},
   "outputs": [
    {
     "ename": "SyntaxError",
     "evalue": "invalid syntax (2132875970.py, line 4)",
     "output_type": "error",
     "traceback": [
      "\u001b[1;36m  File \u001b[1;32m\"C:\\Users\\OM SAI\\AppData\\Local\\Temp\\ipykernel_3276\\2132875970.py\"\u001b[1;36m, line \u001b[1;32m4\u001b[0m\n\u001b[1;33m    | Regression Type     | Visual Tool     | Equation Print? | Why                                   |\u001b[0m\n\u001b[1;37m    ^\u001b[0m\n\u001b[1;31mSyntaxError\u001b[0m\u001b[1;31m:\u001b[0m invalid syntax\n"
     ]
    }
   ],
   "source": [
    "which method to use?\n",
    "\n",
    "\n",
    "| Regression Type     | Visual Tool     | Equation Print? | Why                                   |\n",
    "| ------------------- | --------------- | --------------- | ------------------------------------- |\n",
    "| **Simple Linear**   | 2D Graph (line) | Optional        | Only one variable – easy to see       |\n",
    "| **Multiple Linear** | No simple graph | **Yes**         | Must print coefficients to understand |\n"
   ]
  },
  {
   "cell_type": "code",
   "execution_count": 3,
   "id": "8fae63b1",
   "metadata": {},
   "outputs": [
    {
     "ename": "SyntaxError",
     "evalue": "invalid syntax (372285427.py, line 1)",
     "output_type": "error",
     "traceback": [
      "\u001b[1;36m  File \u001b[1;32m\"C:\\Users\\OM SAI\\AppData\\Local\\Temp\\ipykernel_3276\\372285427.py\"\u001b[1;36m, line \u001b[1;32m1\u001b[0m\n\u001b[1;33m    liabraries:\u001b[0m\n\u001b[1;37m               ^\u001b[0m\n\u001b[1;31mSyntaxError\u001b[0m\u001b[1;31m:\u001b[0m invalid syntax\n"
     ]
    }
   ],
   "source": [
    "liabraries:\n",
    "    -import pandas as pd\n",
    "    -from sklearn.model_selection import train_test_split\n",
    "    -from sklearn.linear_model import LinearRegression\n",
    "    -import numpy as np\n",
    "    -from sklearn import metrics\n",
    "    \n",
    "Topics:\n",
    "    -Multiple Linear Regression\n",
    "        -load csv file\n",
    "        -define x and y\n",
    "            - here x are multiple so its multiple linear regression\n",
    "        - define x_train , x_test , y_train , y_test\n",
    "        -making instance of linear regression\n",
    "        - Y    =   Mn +     M0*X0 +     M1*X1    +        M2*X2\n",
    "        -Sales = 2.94 + 0.0458*TV + 0.1885*Radio + (-0.0010)*Newspaper \n",
    "        -print(regressor.intercept_) # WILL GIVE VALUE OF Mn\n",
    "         print(list(zip(x,regressor.coef_))) # WILL GIVE M0,M1,M2\n",
    "        -define x_pred, y_pred"
   ]
  },
  {
   "cell_type": "markdown",
   "id": "0dda9714",
   "metadata": {},
   "source": [
    "# Multiple Linear Regression"
   ]
  },
  {
   "cell_type": "code",
   "execution_count": 4,
   "id": "e2418d3f",
   "metadata": {},
   "outputs": [
    {
     "data": {
      "text/html": [
       "<div>\n",
       "<style scoped>\n",
       "    .dataframe tbody tr th:only-of-type {\n",
       "        vertical-align: middle;\n",
       "    }\n",
       "\n",
       "    .dataframe tbody tr th {\n",
       "        vertical-align: top;\n",
       "    }\n",
       "\n",
       "    .dataframe thead th {\n",
       "        text-align: right;\n",
       "    }\n",
       "</style>\n",
       "<table border=\"1\" class=\"dataframe\">\n",
       "  <thead>\n",
       "    <tr style=\"text-align: right;\">\n",
       "      <th></th>\n",
       "      <th>Unnamed: 0</th>\n",
       "      <th>TV</th>\n",
       "      <th>Radio</th>\n",
       "      <th>Newspaper</th>\n",
       "      <th>Sales</th>\n",
       "    </tr>\n",
       "  </thead>\n",
       "  <tbody>\n",
       "    <tr>\n",
       "      <th>0</th>\n",
       "      <td>1</td>\n",
       "      <td>230.1</td>\n",
       "      <td>37.8</td>\n",
       "      <td>69.2</td>\n",
       "      <td>22.1</td>\n",
       "    </tr>\n",
       "    <tr>\n",
       "      <th>1</th>\n",
       "      <td>2</td>\n",
       "      <td>44.5</td>\n",
       "      <td>39.3</td>\n",
       "      <td>45.1</td>\n",
       "      <td>10.4</td>\n",
       "    </tr>\n",
       "    <tr>\n",
       "      <th>2</th>\n",
       "      <td>3</td>\n",
       "      <td>17.2</td>\n",
       "      <td>45.9</td>\n",
       "      <td>69.3</td>\n",
       "      <td>9.3</td>\n",
       "    </tr>\n",
       "    <tr>\n",
       "      <th>3</th>\n",
       "      <td>4</td>\n",
       "      <td>151.5</td>\n",
       "      <td>41.3</td>\n",
       "      <td>58.5</td>\n",
       "      <td>18.5</td>\n",
       "    </tr>\n",
       "    <tr>\n",
       "      <th>4</th>\n",
       "      <td>5</td>\n",
       "      <td>180.8</td>\n",
       "      <td>10.8</td>\n",
       "      <td>58.4</td>\n",
       "      <td>12.9</td>\n",
       "    </tr>\n",
       "  </tbody>\n",
       "</table>\n",
       "</div>"
      ],
      "text/plain": [
       "   Unnamed: 0     TV  Radio  Newspaper  Sales\n",
       "0           1  230.1   37.8       69.2   22.1\n",
       "1           2   44.5   39.3       45.1   10.4\n",
       "2           3   17.2   45.9       69.3    9.3\n",
       "3           4  151.5   41.3       58.5   18.5\n",
       "4           5  180.8   10.8       58.4   12.9"
      ]
     },
     "execution_count": 4,
     "metadata": {},
     "output_type": "execute_result"
    }
   ],
   "source": [
    "import pandas as pd\n",
    "df=pd.read_csv('Advertising.csv')\n",
    "df.head()"
   ]
  },
  {
   "cell_type": "code",
   "execution_count": 5,
   "id": "8d18ca3a",
   "metadata": {},
   "outputs": [
    {
     "data": {
      "text/html": [
       "<div>\n",
       "<style scoped>\n",
       "    .dataframe tbody tr th:only-of-type {\n",
       "        vertical-align: middle;\n",
       "    }\n",
       "\n",
       "    .dataframe tbody tr th {\n",
       "        vertical-align: top;\n",
       "    }\n",
       "\n",
       "    .dataframe thead th {\n",
       "        text-align: right;\n",
       "    }\n",
       "</style>\n",
       "<table border=\"1\" class=\"dataframe\">\n",
       "  <thead>\n",
       "    <tr style=\"text-align: right;\">\n",
       "      <th></th>\n",
       "      <th>Unnamed: 0</th>\n",
       "      <th>TV</th>\n",
       "      <th>Radio</th>\n",
       "      <th>Newspaper</th>\n",
       "      <th>Sales</th>\n",
       "    </tr>\n",
       "  </thead>\n",
       "  <tbody>\n",
       "    <tr>\n",
       "      <th>0</th>\n",
       "      <td>1</td>\n",
       "      <td>230.1</td>\n",
       "      <td>37.8</td>\n",
       "      <td>69.2</td>\n",
       "      <td>22.1</td>\n",
       "    </tr>\n",
       "    <tr>\n",
       "      <th>1</th>\n",
       "      <td>2</td>\n",
       "      <td>44.5</td>\n",
       "      <td>39.3</td>\n",
       "      <td>45.1</td>\n",
       "      <td>10.4</td>\n",
       "    </tr>\n",
       "    <tr>\n",
       "      <th>2</th>\n",
       "      <td>3</td>\n",
       "      <td>17.2</td>\n",
       "      <td>45.9</td>\n",
       "      <td>69.3</td>\n",
       "      <td>9.3</td>\n",
       "    </tr>\n",
       "    <tr>\n",
       "      <th>3</th>\n",
       "      <td>4</td>\n",
       "      <td>151.5</td>\n",
       "      <td>41.3</td>\n",
       "      <td>58.5</td>\n",
       "      <td>18.5</td>\n",
       "    </tr>\n",
       "    <tr>\n",
       "      <th>4</th>\n",
       "      <td>5</td>\n",
       "      <td>180.8</td>\n",
       "      <td>10.8</td>\n",
       "      <td>58.4</td>\n",
       "      <td>12.9</td>\n",
       "    </tr>\n",
       "    <tr>\n",
       "      <th>...</th>\n",
       "      <td>...</td>\n",
       "      <td>...</td>\n",
       "      <td>...</td>\n",
       "      <td>...</td>\n",
       "      <td>...</td>\n",
       "    </tr>\n",
       "    <tr>\n",
       "      <th>195</th>\n",
       "      <td>196</td>\n",
       "      <td>38.2</td>\n",
       "      <td>3.7</td>\n",
       "      <td>13.8</td>\n",
       "      <td>7.6</td>\n",
       "    </tr>\n",
       "    <tr>\n",
       "      <th>196</th>\n",
       "      <td>197</td>\n",
       "      <td>94.2</td>\n",
       "      <td>4.9</td>\n",
       "      <td>8.1</td>\n",
       "      <td>9.7</td>\n",
       "    </tr>\n",
       "    <tr>\n",
       "      <th>197</th>\n",
       "      <td>198</td>\n",
       "      <td>177.0</td>\n",
       "      <td>9.3</td>\n",
       "      <td>6.4</td>\n",
       "      <td>12.8</td>\n",
       "    </tr>\n",
       "    <tr>\n",
       "      <th>198</th>\n",
       "      <td>199</td>\n",
       "      <td>283.6</td>\n",
       "      <td>42.0</td>\n",
       "      <td>66.2</td>\n",
       "      <td>25.5</td>\n",
       "    </tr>\n",
       "    <tr>\n",
       "      <th>199</th>\n",
       "      <td>200</td>\n",
       "      <td>232.1</td>\n",
       "      <td>8.6</td>\n",
       "      <td>8.7</td>\n",
       "      <td>13.4</td>\n",
       "    </tr>\n",
       "  </tbody>\n",
       "</table>\n",
       "<p>200 rows × 5 columns</p>\n",
       "</div>"
      ],
      "text/plain": [
       "     Unnamed: 0     TV  Radio  Newspaper  Sales\n",
       "0             1  230.1   37.8       69.2   22.1\n",
       "1             2   44.5   39.3       45.1   10.4\n",
       "2             3   17.2   45.9       69.3    9.3\n",
       "3             4  151.5   41.3       58.5   18.5\n",
       "4             5  180.8   10.8       58.4   12.9\n",
       "..          ...    ...    ...        ...    ...\n",
       "195         196   38.2    3.7       13.8    7.6\n",
       "196         197   94.2    4.9        8.1    9.7\n",
       "197         198  177.0    9.3        6.4   12.8\n",
       "198         199  283.6   42.0       66.2   25.5\n",
       "199         200  232.1    8.6        8.7   13.4\n",
       "\n",
       "[200 rows x 5 columns]"
      ]
     },
     "execution_count": 5,
     "metadata": {},
     "output_type": "execute_result"
    }
   ],
   "source": [
    "df"
   ]
  },
  {
   "cell_type": "code",
   "execution_count": 6,
   "id": "32358b05",
   "metadata": {},
   "outputs": [],
   "source": [
    "x=df[['TV','Radio','Newspaper']]\n",
    "y=df[['Sales']]       ## Target is numeric so its regerssion"
   ]
  },
  {
   "cell_type": "code",
   "execution_count": 7,
   "id": "a3c00428",
   "metadata": {},
   "outputs": [
    {
     "name": "stdout",
     "output_type": "stream",
     "text": [
      "        TV  Radio  Newspaper\n",
      "0    230.1   37.8       69.2\n",
      "1     44.5   39.3       45.1\n",
      "2     17.2   45.9       69.3\n",
      "3    151.5   41.3       58.5\n",
      "4    180.8   10.8       58.4\n",
      "..     ...    ...        ...\n",
      "195   38.2    3.7       13.8\n",
      "196   94.2    4.9        8.1\n",
      "197  177.0    9.3        6.4\n",
      "198  283.6   42.0       66.2\n",
      "199  232.1    8.6        8.7\n",
      "\n",
      "[200 rows x 3 columns]\n"
     ]
    }
   ],
   "source": [
    "print(x)"
   ]
  },
  {
   "cell_type": "code",
   "execution_count": 8,
   "id": "5cc9427d",
   "metadata": {},
   "outputs": [
    {
     "name": "stdout",
     "output_type": "stream",
     "text": [
      "     Sales\n",
      "0     22.1\n",
      "1     10.4\n",
      "2      9.3\n",
      "3     18.5\n",
      "4     12.9\n",
      "..     ...\n",
      "195    7.6\n",
      "196    9.7\n",
      "197   12.8\n",
      "198   25.5\n",
      "199   13.4\n",
      "\n",
      "[200 rows x 1 columns]\n"
     ]
    }
   ],
   "source": [
    "print(y)"
   ]
  },
  {
   "cell_type": "code",
   "execution_count": 9,
   "id": "3b2fa8e7",
   "metadata": {},
   "outputs": [],
   "source": [
    "from sklearn.model_selection import train_test_split\n",
    "x_train , x_test , y_train , y_test= train_test_split(x,y,test_size=1/3,random_state=0)"
   ]
  },
  {
   "cell_type": "code",
   "execution_count": 10,
   "id": "5e843b81",
   "metadata": {},
   "outputs": [
    {
     "data": {
      "text/plain": [
       "LinearRegression()"
      ]
     },
     "execution_count": 10,
     "metadata": {},
     "output_type": "execute_result"
    }
   ],
   "source": [
    "from sklearn.linear_model import LinearRegression\n",
    "regressor=LinearRegression()\n",
    "\n",
    "regressor.fit(x_train,y_train)      ## fit"
   ]
  },
  {
   "cell_type": "code",
   "execution_count": null,
   "id": "5c41c2ac",
   "metadata": {},
   "outputs": [],
   "source": []
  },
  {
   "cell_type": "code",
   "execution_count": 20,
   "id": "3f6ac3af",
   "metadata": {},
   "outputs": [
    {
     "name": "stdout",
     "output_type": "stream",
     "text": [
      "[2.9037645]\n",
      "[(array([0.0443459 , 0.19660591, 0.00262562]),)]\n"
     ]
    }
   ],
   "source": [
    "print(regressor.intercept_)\n",
    "print(list(zip(regressor.coef_)))"
   ]
  },
  {
   "cell_type": "code",
   "execution_count": 12,
   "id": "3efdc60f",
   "metadata": {},
   "outputs": [],
   "source": [
    "x_pred=regressor.predict(x_train)\n",
    "y_pred=regressor.predict(x_test)"
   ]
  },
  {
   "cell_type": "code",
   "execution_count": 13,
   "id": "e0889b7d",
   "metadata": {},
   "outputs": [
    {
     "name": "stdout",
     "output_type": "stream",
     "text": [
      "prediction for test set :[[10.05097058]\n",
      " [ 7.4499993 ]\n",
      " [ 7.03252971]\n",
      " [24.2016326 ]\n",
      " [12.07738405]\n",
      " [ 6.59463846]\n",
      " [13.1005242 ]\n",
      " [15.00928045]\n",
      " [11.03309254]\n",
      " [16.2847153 ]\n",
      " [23.03004114]\n",
      " [ 9.15867999]\n",
      " [10.3813    ]\n",
      " [15.4052521 ]\n",
      " [11.59972016]\n",
      " [12.11807438]\n",
      " [18.61494072]\n",
      " [10.7432436 ]\n",
      " [16.04872577]\n",
      " [17.23807998]\n",
      " [24.30021807]\n",
      " [ 9.52267567]\n",
      " [15.17507106]\n",
      " [12.4525143 ]\n",
      " [ 5.72567004]\n",
      " [15.19786664]\n",
      " [12.25971506]\n",
      " [20.91306214]\n",
      " [13.3500593 ]\n",
      " [ 9.18330769]\n",
      " [13.40551309]\n",
      " [21.59403254]\n",
      " [18.18162786]\n",
      " [21.15410682]\n",
      " [ 6.74539497]\n",
      " [ 6.17340376]\n",
      " [ 8.01921503]\n",
      " [13.19818262]\n",
      " [14.77945892]\n",
      " [ 6.2530578 ]\n",
      " [12.3013568 ]\n",
      " [ 9.14294205]\n",
      " [15.0344292 ]\n",
      " [16.27684044]\n",
      " [17.24700584]\n",
      " [13.29967831]\n",
      " [ 3.70063725]\n",
      " [12.4796187 ]\n",
      " [15.94075082]\n",
      " [ 8.75332029]\n",
      " [10.66764063]\n",
      " [19.62633967]\n",
      " [18.42522765]\n",
      " [15.28980862]\n",
      " [10.01254635]\n",
      " [ 8.19179718]\n",
      " [21.57005177]\n",
      " [14.19260523]\n",
      " [16.35109003]\n",
      " [ 8.86081623]\n",
      " [15.34735514]\n",
      " [12.37012562]\n",
      " [13.72695688]\n",
      " [14.18494574]\n",
      " [18.40445716]\n",
      " [19.29907579]\n",
      " [20.25742927]]\n"
     ]
    }
   ],
   "source": [
    "print(\"prediction for test set :{}\".format(y_pred))"
   ]
  },
  {
   "cell_type": "code",
   "execution_count": 21,
   "id": "5f53f708",
   "metadata": {},
   "outputs": [
    {
     "name": "stdout",
     "output_type": "stream",
     "text": [
      "{'Actual value':      Sales\n",
      "18    11.3\n",
      "170    8.4\n",
      "107    8.7\n",
      "98    25.4\n",
      "177   11.7\n",
      "..     ...\n",
      "181   12.2\n",
      "19    14.6\n",
      "153   19.0\n",
      "92    19.4\n",
      "54    20.2\n",
      "\n",
      "[67 rows x 1 columns], 'predicted value': array([[10.05097058],\n",
      "       [ 7.4499993 ],\n",
      "       [ 7.03252971],\n",
      "       [24.2016326 ],\n",
      "       [12.07738405],\n",
      "       [ 6.59463846],\n",
      "       [13.1005242 ],\n",
      "       [15.00928045],\n",
      "       [11.03309254],\n",
      "       [16.2847153 ],\n",
      "       [23.03004114],\n",
      "       [ 9.15867999],\n",
      "       [10.3813    ],\n",
      "       [15.4052521 ],\n",
      "       [11.59972016],\n",
      "       [12.11807438],\n",
      "       [18.61494072],\n",
      "       [10.7432436 ],\n",
      "       [16.04872577],\n",
      "       [17.23807998],\n",
      "       [24.30021807],\n",
      "       [ 9.52267567],\n",
      "       [15.17507106],\n",
      "       [12.4525143 ],\n",
      "       [ 5.72567004],\n",
      "       [15.19786664],\n",
      "       [12.25971506],\n",
      "       [20.91306214],\n",
      "       [13.3500593 ],\n",
      "       [ 9.18330769],\n",
      "       [13.40551309],\n",
      "       [21.59403254],\n",
      "       [18.18162786],\n",
      "       [21.15410682],\n",
      "       [ 6.74539497],\n",
      "       [ 6.17340376],\n",
      "       [ 8.01921503],\n",
      "       [13.19818262],\n",
      "       [14.77945892],\n",
      "       [ 6.2530578 ],\n",
      "       [12.3013568 ],\n",
      "       [ 9.14294205],\n",
      "       [15.0344292 ],\n",
      "       [16.27684044],\n",
      "       [17.24700584],\n",
      "       [13.29967831],\n",
      "       [ 3.70063725],\n",
      "       [12.4796187 ],\n",
      "       [15.94075082],\n",
      "       [ 8.75332029],\n",
      "       [10.66764063],\n",
      "       [19.62633967],\n",
      "       [18.42522765],\n",
      "       [15.28980862],\n",
      "       [10.01254635],\n",
      "       [ 8.19179718],\n",
      "       [21.57005177],\n",
      "       [14.19260523],\n",
      "       [16.35109003],\n",
      "       [ 8.86081623],\n",
      "       [15.34735514],\n",
      "       [12.37012562],\n",
      "       [13.72695688],\n",
      "       [14.18494574],\n",
      "       [18.40445716],\n",
      "       [19.29907579],\n",
      "       [20.25742927]])}\n"
     ]
    }
   ],
   "source": [
    "print({\"Actual value\":y_test,\"predicted value\":y_pred})"
   ]
  },
  {
   "cell_type": "code",
   "execution_count": null,
   "id": "b3a5c5da",
   "metadata": {},
   "outputs": [],
   "source": []
  },
  {
   "cell_type": "markdown",
   "id": "6630f41c",
   "metadata": {},
   "source": [
    "# matrics"
   ]
  },
  {
   "cell_type": "code",
   "execution_count": 15,
   "id": "f8198f28",
   "metadata": {},
   "outputs": [],
   "source": [
    "import numpy as np\n",
    "from sklearn import metrics"
   ]
  },
  {
   "cell_type": "code",
   "execution_count": 22,
   "id": "b7ae29d5",
   "metadata": {},
   "outputs": [
    {
     "name": "stdout",
     "output_type": "stream",
     "text": [
      "1.1855503777750762\n"
     ]
    }
   ],
   "source": [
    "MeanAbErr=metrics.mean_absolute_error(y_test,y_pred)\n",
    "print(MeanAbErr)"
   ]
  },
  {
   "cell_type": "code",
   "execution_count": null,
   "id": "dc95027b",
   "metadata": {},
   "outputs": [],
   "source": [
    "MeanSqErr=metrics.mean_squared_error(y_test,y_pred)\n",
    "print(MeanSqErr)"
   ]
  },
  {
   "cell_type": "code",
   "execution_count": null,
   "id": "3302cd36",
   "metadata": {},
   "outputs": [],
   "source": [
    "RootMeanSqr=np.sqrt(metrics)"
   ]
  },
  {
   "cell_type": "code",
   "execution_count": null,
   "id": "6d3d86e5",
   "metadata": {},
   "outputs": [],
   "source": []
  },
  {
   "cell_type": "code",
   "execution_count": null,
   "id": "b41b4b3b",
   "metadata": {},
   "outputs": [],
   "source": []
  },
  {
   "cell_type": "code",
   "execution_count": null,
   "id": "c548eaa8",
   "metadata": {},
   "outputs": [],
   "source": []
  }
 ],
 "metadata": {
  "kernelspec": {
   "display_name": "Python 3 (ipykernel)",
   "language": "python",
   "name": "python3"
  },
  "language_info": {
   "codemirror_mode": {
    "name": "ipython",
    "version": 3
   },
   "file_extension": ".py",
   "mimetype": "text/x-python",
   "name": "python",
   "nbconvert_exporter": "python",
   "pygments_lexer": "ipython3",
   "version": "3.7.4"
  }
 },
 "nbformat": 4,
 "nbformat_minor": 5
}
